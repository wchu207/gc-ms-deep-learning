{
 "cells": [
  {
   "cell_type": "code",
   "execution_count": 1,
   "id": "9f7c5711-68f8-4368-a185-07a0389c4189",
   "metadata": {},
   "outputs": [],
   "source": [
    "import numpy as np\n",
    "import os\n",
    "from pyteomics import mzml\n",
    "from pyms.GCMS.Class import GCMS_data\n",
    "from pyms.Spectrum import Scan\n",
    "from pyms import IntensityMatrix\n",
    "from MSDataset import MSDataset"
   ]
  },
  {
   "cell_type": "code",
   "execution_count": 2,
   "id": "47f34541-7eef-4783-8893-26e7009002d6",
   "metadata": {},
   "outputs": [],
   "source": [
    "def to_seconds(rt):\n",
    "    if rt.unit_info == \"minute\":\n",
    "        return rt*60\n",
    "    elif rt.unit_info == \"second\":\n",
    "        return rt\n",
    "\n",
    "def read_mzml(path):\n",
    "    times_list = []\n",
    "    scans_list = []\n",
    "    with mzml.read(path) as reader:\n",
    "        for scan in reader:\n",
    "            subscans = scan[\"scanList\"][\"scan\"]\n",
    "            for subscan in subscans:\n",
    "                times_list.append(to_seconds(subscan[\"scan start time\"]))\n",
    "                scans_list.append(Scan(scan[\"m/z array\"], scan[\"intensity array\"]))\n",
    "    if len(times_list) > 0:\n",
    "        return GCMS_data(times_list, scans_list)\n",
    "    else:\n",
    "        return None\n",
    "\n",
    "def read_intensity_matrix(path):\n",
    "    mzml = read_mzml(path)\n",
    "    if mzml != None:\n",
    "        return IntensityMatrix.build_intensity_matrix(mzml)\n",
    "    else:\n",
    "        return None\n",
    "    "
   ]
  },
  {
   "cell_type": "code",
   "execution_count": 3,
   "id": "91984edd-a6e9-4cf8-a649-5ef8dbcfe365",
   "metadata": {},
   "outputs": [],
   "source": [
    "dataset = MSDataset(\"data\", read_mzml, IntensityMatrix.build_intensity_matrix)"
   ]
  },
  {
   "cell_type": "code",
   "execution_count": 4,
   "id": "9fb0c1a7-21b4-475b-9b09-eaa0c83239dd",
   "metadata": {},
   "outputs": [],
   "source": [
    "mat = dataset[0][0]"
   ]
  },
  {
   "cell_type": "code",
   "execution_count": 5,
   "id": "6e538a4c-265f-4b23-94e1-8055dbbc4b0d",
   "metadata": {},
   "outputs": [
    {
     "data": {
      "text/plain": [
       "[('data\\\\baseline\\\\20-0002_RI-Standard_2023-09-01_63.mzML', 0),\n",
       " ('data\\\\baseline\\\\20-0003_RI-Standard_2023-08-08_06.mzML', 0),\n",
       " ('data\\\\baseline\\\\20-0004_RI-Standard_2023-08-08_21.mzML', 0),\n",
       " ('data\\\\baseline\\\\20-0005_RI-Standard_2023-08-14_06.mzML', 0)]"
      ]
     },
     "execution_count": 5,
     "metadata": {},
     "output_type": "execute_result"
    }
   ],
   "source": [
    "dataset.samples"
   ]
  },
  {
   "cell_type": "code",
   "execution_count": 6,
   "id": "b097282f-54c1-4e0c-9e90-ff4479ee93fb",
   "metadata": {},
   "outputs": [
    {
     "data": {
      "text/plain": [
       "array([[     0.        ,   4214.34814453,      0.        , ...,\n",
       "             0.        ,      0.        ,      0.        ],\n",
       "       [     0.        ,   2033.01757812,      0.        , ...,\n",
       "             0.        ,      0.        ,      0.        ],\n",
       "       [     0.        ,   5472.63891602,   1898.40454102, ...,\n",
       "             0.        ,      0.        ,      0.        ],\n",
       "       ...,\n",
       "       [286724.28515625,  16967.83007812,      0.        , ...,\n",
       "          6507.88134766, 150989.515625  ,      0.        ],\n",
       "       [418983.3203125 ,   9471.52929688,      0.        , ...,\n",
       "             0.        , 267811.28808594,      0.        ],\n",
       "       [620970.31640625,  20413.640625  ,      0.        , ...,\n",
       "             0.        , 424469.32714844,      0.        ]],\n",
       "      shape=(12308, 368))"
      ]
     },
     "execution_count": 6,
     "metadata": {},
     "output_type": "execute_result"
    }
   ],
   "source": [
    "mat.intensity_matrix"
   ]
  },
  {
   "cell_type": "code",
   "execution_count": 7,
   "id": "b410ae50-dabe-47ee-9cf9-3666e478f986",
   "metadata": {},
   "outputs": [
    {
     "data": {
      "text/plain": [
       "<pyms.IntensityMatrix.IntensityMatrix at 0x209afa37d90>"
      ]
     },
     "execution_count": 7,
     "metadata": {},
     "output_type": "execute_result"
    }
   ],
   "source": [
    "dataset[0][0]"
   ]
  },
  {
   "cell_type": "code",
   "execution_count": null,
   "id": "295a2817-27d8-44c2-b627-ee82cdded97b",
   "metadata": {},
   "outputs": [],
   "source": []
  }
 ],
 "metadata": {
  "kernelspec": {
   "display_name": "Python 3 (ipykernel)",
   "language": "python",
   "name": "python3"
  },
  "language_info": {
   "codemirror_mode": {
    "name": "ipython",
    "version": 3
   },
   "file_extension": ".py",
   "mimetype": "text/x-python",
   "name": "python",
   "nbconvert_exporter": "python",
   "pygments_lexer": "ipython3",
   "version": "3.13.2"
  }
 },
 "nbformat": 4,
 "nbformat_minor": 5
}
