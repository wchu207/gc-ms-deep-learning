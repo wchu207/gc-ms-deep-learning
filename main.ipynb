{
 "cells": [
  {
   "cell_type": "code",
   "execution_count": null,
   "id": "9f7c5711-68f8-4368-a185-07a0389c4189",
   "metadata": {},
   "outputs": [],
   "source": [
    "import numpy as np\n",
    "import os\n",
    "import torch\n",
    "from MSDataset import MSDataset\n",
    "from Model import MSNetEncoder, MSNetAutoEncoder\n",
    "from multiprocessing import Pool\n",
    "from pyteomics import mzml"
   ]
  },
  {
   "cell_type": "code",
   "execution_count": null,
   "id": "91984edd-a6e9-4cf8-a649-5ef8dbcfe365",
   "metadata": {},
   "outputs": [],
   "source": [
    "device = torch.device(\"cuda:0\" if torch.cuda.is_available() else \"cpu\")\n",
    "dataset = MSDataset(\"data\", Pool(16), device)"
   ]
  },
  {
   "cell_type": "code",
   "execution_count": null,
   "id": "b410ae50-dabe-47ee-9cf9-3666e478f986",
   "metadata": {},
   "outputs": [],
   "source": [
    "autoencoder = MSNetAutoEncoder().to(device)"
   ]
  },
  {
   "cell_type": "code",
   "execution_count": null,
   "id": "bc1b0de4-a8fd-4cbe-969e-5f029f6d6fc1",
   "metadata": {},
   "outputs": [],
   "source": [
    "def train(model, loss_fn, dataset):\n",
    "    n = len(dataset.samples)\n",
    "    optim = torch.optim.SGD(model.parameters(), lr=0.00002, momentum=0.4)\n",
    "    for epoch in range(20):\n",
    "        sample = torch.randint(n, size=(n,)).tolist()\n",
    "        total_loss = 0\n",
    "        for idx in sample:\n",
    "            optim.zero_grad()\n",
    "            X = dataset[idx][0]\n",
    "            X_pred = model(X)\n",
    "            loss = loss_fn(X, X_pred)\n",
    "            loss.backward()\n",
    "            optim.step()\n",
    "            total_loss = total_loss + loss.item()\n",
    "        print(f\"Epoch {epoch + 1} has training loss {total_loss / n}\")\n",
    "        \n",
    "        "
   ]
  },
  {
   "cell_type": "code",
   "execution_count": null,
   "id": "2ca1f7ce-c2d7-4d47-87cb-014bbcd2a39f",
   "metadata": {},
   "outputs": [],
   "source": [
    "train(autoencoder, torch.nn.HuberLoss(), dataset)"
   ]
  }
 ],
 "metadata": {
  "kernelspec": {
   "display_name": "Python 3 (ipykernel)",
   "language": "python",
   "name": "python3"
  },
  "language_info": {
   "codemirror_mode": {
    "name": "ipython",
    "version": 3
   },
   "file_extension": ".py",
   "mimetype": "text/x-python",
   "name": "python",
   "nbconvert_exporter": "python",
   "pygments_lexer": "ipython3",
   "version": "3.13.2"
  }
 },
 "nbformat": 4,
 "nbformat_minor": 5
}
